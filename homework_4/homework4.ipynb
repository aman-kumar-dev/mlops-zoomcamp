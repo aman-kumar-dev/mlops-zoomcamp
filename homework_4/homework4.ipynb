{
 "cells": [
  {
   "cell_type": "code",
   "execution_count": 52,
   "id": "2c51efaa",
   "metadata": {},
   "outputs": [
    {
     "name": "stdout",
     "output_type": "stream",
     "text": [
      "\u001b[01;31m\u001b[Kscikit-learn\u001b[m\u001b[K==1.0.2\n"
     ]
    }
   ],
   "source": [
    "!pip freeze | grep scikit-learn"
   ]
  },
  {
   "cell_type": "code",
   "execution_count": 53,
   "id": "0ef880a0",
   "metadata": {},
   "outputs": [],
   "source": [
    "import pickle\n",
    "import pandas as pd"
   ]
  },
  {
   "cell_type": "code",
   "execution_count": 54,
   "id": "7836ccfd",
   "metadata": {},
   "outputs": [
    {
     "name": "stderr",
     "output_type": "stream",
     "text": [
      "/home/user/Documents/mlops-camp/mlops-zoomcamp/venv/lib/python3.8/site-packages/sklearn/base.py:329: UserWarning: Trying to unpickle estimator DictVectorizer from version 1.0.2 when using version 1.1.1. This might lead to breaking code or invalid results. Use at your own risk. For more info please refer to:\n",
      "https://scikit-learn.org/stable/model_persistence.html#security-maintainability-limitations\n",
      "  warnings.warn(\n",
      "/home/user/Documents/mlops-camp/mlops-zoomcamp/venv/lib/python3.8/site-packages/sklearn/base.py:329: UserWarning: Trying to unpickle estimator LinearRegression from version 1.0.2 when using version 1.1.1. This might lead to breaking code or invalid results. Use at your own risk. For more info please refer to:\n",
      "https://scikit-learn.org/stable/model_persistence.html#security-maintainability-limitations\n",
      "  warnings.warn(\n"
     ]
    }
   ],
   "source": [
    "with open('model.bin', 'rb') as f_in:\n",
    "    dv, lr = pickle.load(f_in)"
   ]
  },
  {
   "cell_type": "code",
   "execution_count": 55,
   "id": "41c08294",
   "metadata": {},
   "outputs": [],
   "source": [
    "categorical = ['PUlocationID', 'DOlocationID']\n",
    "\n",
    "def read_data(filename):\n",
    "    df = pd.read_parquet(filename)\n",
    "    \n",
    "    df['duration'] = df.dropOff_datetime - df.pickup_datetime\n",
    "    df['duration'] = df.duration.dt.total_seconds() / 60\n",
    "\n",
    "    df = df[(df.duration >= 1) & (df.duration <= 60)].copy()\n",
    "\n",
    "    df[categorical] = df[categorical].fillna(-1).astype('int').astype('str')\n",
    "    \n",
    "    return df"
   ]
  },
  {
   "cell_type": "code",
   "execution_count": 56,
   "id": "4854399a",
   "metadata": {},
   "outputs": [],
   "source": [
    "df = read_data('https://nyc-tlc.s3.amazonaws.com/trip+data/fhv_tripdata_2021-02.parquet')"
   ]
  },
  {
   "cell_type": "code",
   "execution_count": 57,
   "id": "669fda0a",
   "metadata": {},
   "outputs": [],
   "source": [
    "dicts = df[categorical].to_dict(orient='records')\n",
    "X_val = dv.transform(dicts)\n",
    "y_pred = lr.predict(X_val)"
   ]
  },
  {
   "cell_type": "markdown",
   "id": "94f4a43d",
   "metadata": {},
   "source": [
    "## Q1. Mean predicted duration for Feb-21 dataset?"
   ]
  },
  {
   "cell_type": "code",
   "execution_count": 58,
   "id": "2f7d4a1c",
   "metadata": {},
   "outputs": [
    {
     "name": "stdout",
     "output_type": "stream",
     "text": [
      "Mean predicted duration is 16.19\n"
     ]
    }
   ],
   "source": [
    "import numpy as np\n",
    "print(f\"Mean predicted duration is {np.mean(y_pred):.2f}\")"
   ]
  },
  {
   "cell_type": "code",
   "execution_count": 59,
   "id": "a4171183",
   "metadata": {},
   "outputs": [],
   "source": [
    "df['ride_id'] = f'2021/02_' + df.index.astype('str')"
   ]
  },
  {
   "cell_type": "code",
   "execution_count": 60,
   "id": "50c9cd11",
   "metadata": {},
   "outputs": [],
   "source": [
    "df['predictions'] = y_pred\n",
    "df_result = df[['ride_id','predictions']].copy()"
   ]
  },
  {
   "cell_type": "code",
   "execution_count": 61,
   "id": "24087b67",
   "metadata": {},
   "outputs": [],
   "source": [
    "df_result.to_parquet(\n",
    "    'df_result.parquet',\n",
    "    engine='pyarrow',\n",
    "    compression=None,\n",
    "    index=False\n",
    ")"
   ]
  },
  {
   "cell_type": "markdown",
   "id": "d94785a2",
   "metadata": {},
   "source": [
    "## Q2. Size of output file"
   ]
  },
  {
   "cell_type": "code",
   "execution_count": 62,
   "id": "8b4d2628",
   "metadata": {},
   "outputs": [
    {
     "name": "stdout",
     "output_type": "stream",
     "text": [
      "19M\tdf_result.parquet\n"
     ]
    }
   ],
   "source": [
    "!du -sh df_result.parquet"
   ]
  },
  {
   "cell_type": "markdown",
   "id": "3c690205",
   "metadata": {},
   "source": [
    "## Q3. Creating the scoring script\n",
    "\n",
    "jupyter nbconvert --to script starter.ipynb"
   ]
  },
  {
   "cell_type": "markdown",
   "id": "5413cf10",
   "metadata": {},
   "source": [
    "## Q4. What's the first hash for the Scikit-Learn dependency?\n",
    "\n",
    "08ef968f6b72033c16c479c966bf37ccd49b06ea91b765e1cc27afefe723920b"
   ]
  },
  {
   "cell_type": "markdown",
   "id": "e743dfee",
   "metadata": {},
   "source": [
    "## Q5. Parameterize the script\n",
    "\n",
    "What's the mean predicted duration for March 2021?"
   ]
  },
  {
   "cell_type": "markdown",
   "id": "836e3744",
   "metadata": {},
   "source": [
    "16.29"
   ]
  },
  {
   "cell_type": "markdown",
   "id": "78f34b65",
   "metadata": {},
   "source": [
    "## Q6. Docker container\n",
    "\n",
    "What's the mean predicted duration for April 2021?"
   ]
  },
  {
   "cell_type": "markdown",
   "id": "f5275c42",
   "metadata": {},
   "source": [
    "16.55116"
   ]
  }
 ],
 "metadata": {
  "interpreter": {
   "hash": "3d56d78449b082cc65fcff2ad45448aecdfe8c067e4ee35cc0f1984fb6a7c70d"
  },
  "kernelspec": {
   "display_name": "Python 3.8.13 ('venv': venv)",
   "language": "python",
   "name": "python3"
  },
  "language_info": {
   "codemirror_mode": {
    "name": "ipython",
    "version": 3
   },
   "file_extension": ".py",
   "mimetype": "text/x-python",
   "name": "python",
   "nbconvert_exporter": "python",
   "pygments_lexer": "ipython3",
   "version": "3.8.13"
  }
 },
 "nbformat": 4,
 "nbformat_minor": 5
}
